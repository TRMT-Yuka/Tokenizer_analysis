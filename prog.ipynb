{
 "cells": [
  {
   "cell_type": "markdown",
   "id": "a29fd399",
   "metadata": {},
   "source": [
    "## 23/12/11-12\n",
    "・Wikipedia dumpのインストール"
   ]
  },
  {
   "cell_type": "code",
   "execution_count": null,
   "id": "9027d36d",
   "metadata": {},
   "outputs": [],
   "source": [
    "#!python -m wikiextractor.WikiExtractor jawiki-latest-pages-articles.xml\n",
    "\n",
    "# https://qiita.com/atsushieee/items/7b64b605de7d1646bf41\n",
    "# https://note.com/npaka/n/n30a0cef78f42\n",
    "# 「wikiextractor」https://github.com/attardi/wikiextractor"
   ]
  },
  {
   "cell_type": "code",
   "execution_count": 24,
   "id": "2e95f2ff",
   "metadata": {},
   "outputs": [],
   "source": [
    "# !pip install Mecab\n",
    "# !pip install janome\n",
    "# !pip install sudachipy\n",
    "# !pip install sudachidict_core\n",
    "# 「pythonで利用可能な様々な形態素解析器(の一部)とその実行例」https://qiita.com/paulxll/items/aaf2175119f2ad9cf9ac"
   ]
  },
  {
   "cell_type": "markdown",
   "id": "1dc082fd",
   "metadata": {},
   "source": [
    "【○】MeCab+IPAdic  \n",
    "【 】MeCab+Unidic  \n",
    "【 】MeCab+Neologd  \n",
    "【 】Fugashi  \n",
    "【○】Jumanpp + JumanDIC  \n",
    "【○】Sudachi-A  \n",
    "【○】Sudachi-B  \n",
    "【○】Sudachi-C  \n",
    "【 】GSDLUW  "
   ]
  },
  {
   "cell_type": "markdown",
   "id": "7e0a3516",
   "metadata": {},
   "source": [
    "・各種形態素解析器の実装 "
   ]
  },
  {
   "cell_type": "code",
   "execution_count": 38,
   "id": "6efdadfe",
   "metadata": {},
   "outputs": [],
   "source": [
    "import MeCab\n",
    "\n",
    "def MeCab_Unidic_tokens(text):\n",
    "    tagger = MeCab.Tagger(\"-Owakati\")\n",
    "    return tagger.parse(text).replace(\" \\n\",\"\").split(\" \")"
   ]
  },
  {
   "cell_type": "code",
   "execution_count": 31,
   "id": "a7205500",
   "metadata": {},
   "outputs": [],
   "source": [
    "# https://zenn.dev/yasude/articles/aa28d7ab20b2f1823d4b\n",
    "import MeCab\n",
    "import ipadic\n",
    "\n",
    "def MeCab_IPAdic_tokens(text):\n",
    "    tagger = MeCab.Tagger(ipadic.MECAB_ARGS)\n",
    "    return [t.split(\"\\t\")[0] for t in tagger.parse(s).replace(\"\\nEOS\\n\",\"\").split(\"\\n\")]"
   ]
  },
  {
   "cell_type": "code",
   "execution_count": 6,
   "id": "e930769e",
   "metadata": {},
   "outputs": [],
   "source": [
    "# https://qiita.com/ku_a_i/items/cf9fc9636958adafc690\n",
    "import MeCab\n",
    "\n",
    "def MeCab_Neologd_tokens(text):\n",
    "    tagger = MeCab.Tagger(r'-Owakati -d \"C:\\mecab-ipadic-neologd\"') #分かち書きと辞書の指定\n",
    "    return tagger.parse(text).replace(\"\\n\",\"\").split(\" \")"
   ]
  },
  {
   "cell_type": "code",
   "execution_count": 76,
   "id": "4e4393f1",
   "metadata": {},
   "outputs": [],
   "source": [
    "# !pip install fugashi[unidic-lite]\n",
    "# !pip install fugashi[unidic]\n",
    "# !python -m unidic download\n",
    "# from fugashi import Tagger"
   ]
  },
  {
   "cell_type": "code",
   "execution_count": 110,
   "id": "c86f2bfd",
   "metadata": {},
   "outputs": [],
   "source": [
    "# https://github.com/polm/fugashi\n",
    "from fugashi import GenericTagger,Tagger\n",
    "\n",
    "def MeCab_fugashi_IPAdic_tokens(text):\n",
    "    tagger = GenericTagger()#ipadic\n",
    "    return [word.surface for word in tagger(text)]\n",
    "\n",
    "def MeCab_fugashi_Unidic_tokens(text):\n",
    "    tagger = Tagger('-Owakati')#unidic\n",
    "    return [str(word) for word in tagger(text)]\n",
    "\n",
    "# print(\"使用中の辞書:\", tagger.dictionary_info)"
   ]
  },
  {
   "cell_type": "code",
   "execution_count": 42,
   "id": "d17f52a0",
   "metadata": {},
   "outputs": [],
   "source": [
    "from janome.tokenizer import Tokenizer\n",
    "\n",
    "def janome_tokens(text):\n",
    "    tagger = Tokenizer()\n",
    "    return [t.surface for t in tagger.tokenize(text)]"
   ]
  },
  {
   "cell_type": "code",
   "execution_count": 83,
   "id": "40786e9e",
   "metadata": {},
   "outputs": [],
   "source": [
    "import json\n",
    "import sudachipy\n",
    "\n",
    "def Sudachi_A_tokens(text):\n",
    "    tagger = sudachipy.Dictionary().create()\n",
    "    mode = sudachipy.SplitMode.A\n",
    "    return [t.surface() for t in tagger.tokenize(text,mode)]\n",
    "\n",
    "def Sudachi_B_tokens(text):\n",
    "    tagger = sudachipy.Dictionary().create()\n",
    "    mode = sudachipy.SplitMode.B\n",
    "    return [t.surface() for t in tagger.tokenize(text,mode)]\n",
    "\n",
    "def Sudachi_C_tokens(text):\n",
    "    tagger = sudachipy.Dictionary().create()\n",
    "    mode = sudachipy.SplitMode.C\n",
    "    return [t.surface() for t in tagger.tokenize(text,mode)]"
   ]
  },
  {
   "cell_type": "code",
   "execution_count": 17,
   "id": "b892e872",
   "metadata": {},
   "outputs": [],
   "source": [
    "from pyknp.juman.juman import Juman\n",
    "\n",
    "def Jumanpp_tokens(text):\n",
    "    option='--config=C:\\jumanpp\\libexec\\jumandic.conf'\n",
    "    tagger = Juman(command='jumanpp_v2', option=option)\n",
    "    mlist = tagger.analysis(text)\n",
    "    return [t.midasi for t in mlist.mrph_list()]"
   ]
  },
  {
   "cell_type": "code",
   "execution_count": 9,
   "id": "36b89d6c",
   "metadata": {},
   "outputs": [],
   "source": [
    "from transformers import RemBertTokenizerFast\n",
    "\n",
    "def LUW_tokens(text):\n",
    "    tokenizer=RemBertTokenizerFast.from_pretrained(\"Japanese-LUW-Tokenizer\")\n",
    "    return tokenizer.tokenize(text)\n",
    "# ['全', '学年', 'にわたって', '小学校', 'の', '国語', 'の', '教科書', 'に', '大量', 'の', '挿し', '絵', 'が', '用い', 'られ', 'ている']"
   ]
  },
  {
   "cell_type": "code",
   "execution_count": null,
   "id": "72715a61",
   "metadata": {},
   "outputs": [],
   "source": [
    "## 日本語Wikipedia NERデータセットの読み込み"
   ]
  },
  {
   "cell_type": "code",
   "execution_count": null,
   "id": "43f17cec",
   "metadata": {},
   "outputs": [],
   "source": []
  }
 ],
 "metadata": {
  "kernelspec": {
   "display_name": "Python 3",
   "language": "python",
   "name": "python3"
  },
  "language_info": {
   "codemirror_mode": {
    "name": "ipython",
    "version": 3
   },
   "file_extension": ".py",
   "mimetype": "text/x-python",
   "name": "python",
   "nbconvert_exporter": "python",
   "pygments_lexer": "ipython3",
   "version": "3.9.0"
  }
 },
 "nbformat": 4,
 "nbformat_minor": 5
}
