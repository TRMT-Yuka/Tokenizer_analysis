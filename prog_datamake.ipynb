{
 "cells": [
  {
   "cell_type": "code",
   "execution_count": 12,
   "id": "ec6cc4e9",
   "metadata": {},
   "outputs": [],
   "source": [
    "import json\n",
    "\n",
    "# JSONファイルを読み込む\n",
    "with open('ja_ner_dataset/ner-wikipedia-dataset/ner.json', 'r') as file:\n",
    "    data = json.load(file)"
   ]
  },
  {
   "cell_type": "code",
   "execution_count": 21,
   "id": "79ae7939",
   "metadata": {},
   "outputs": [],
   "source": [
    "id2tag = {1:'その他の組織名', 2:'イベント名', 3:'人名', 4:'地名', 5:'政治的組織名', 6:'施設名', 7:'法人名', 8:'製品名'}\n",
    "tag2id = {v: k for k, v in id2tag.items()}"
   ]
  },
  {
   "cell_type": "code",
   "execution_count": 44,
   "id": "6bafe920",
   "metadata": {},
   "outputs": [],
   "source": [
    "id2simple_tag = {0:'O',1:'other-org', 2:'event', 3:'person', 4:'location', 5:'political-org', 6:'facility', 7:'corporate', 8:'product'}\n",
    "simple_tag2id = {v: k for k, v in id2simple_tag.items()}"
   ]
  },
  {
   "cell_type": "code",
   "execution_count": 10,
   "id": "0e8d6d72",
   "metadata": {},
   "outputs": [
    {
     "data": {
      "application/vnd.jupyter.widget-view+json": {
       "model_id": "bca43ab4611541f8b5d0bc2d76f1bb80",
       "version_major": 2,
       "version_minor": 0
      },
      "text/plain": [
       "vocab.txt:   0%|          | 0.00/236k [00:00<?, ?B/s]"
      ]
     },
     "metadata": {},
     "output_type": "display_data"
    },
    {
     "name": "stderr",
     "output_type": "stream",
     "text": [
      "c:\\users\\teramoto\\appdata\\local\\programs\\python\\python39\\lib\\site-packages\\huggingface_hub\\file_download.py:147: UserWarning: `huggingface_hub` cache-system uses symlinks by default to efficiently store duplicated files but your machine does not support them in C:\\Users\\Teramoto\\.cache\\huggingface\\hub. Caching files will still work but in a degraded version that might require more space on your disk. This warning can be disabled by setting the `HF_HUB_DISABLE_SYMLINKS_WARNING` environment variable. For more details, see https://huggingface.co/docs/huggingface_hub/how-to-cache#limitations.\n",
      "To support symlinks on Windows, you either need to activate Developer Mode or to run Python as an administrator. In order to see activate developer mode, see this article: https://docs.microsoft.com/en-us/windows/apps/get-started/enable-your-device-for-development\n",
      "  warnings.warn(message)\n"
     ]
    },
    {
     "data": {
      "application/vnd.jupyter.widget-view+json": {
       "model_id": "e875987d4f6e472cb2eca93b5b140eb8",
       "version_major": 2,
       "version_minor": 0
      },
      "text/plain": [
       "tokenizer_config.json:   0%|          | 0.00/174 [00:00<?, ?B/s]"
      ]
     },
     "metadata": {},
     "output_type": "display_data"
    },
    {
     "data": {
      "application/vnd.jupyter.widget-view+json": {
       "model_id": "e28bd5b3a0a049efa5038ebea1511c20",
       "version_major": 2,
       "version_minor": 0
      },
      "text/plain": [
       "config.json:   0%|          | 0.00/517 [00:00<?, ?B/s]"
      ]
     },
     "metadata": {},
     "output_type": "display_data"
    },
    {
     "name": "stderr",
     "output_type": "stream",
     "text": [
      "The tokenizer class you load from this checkpoint is not the same type as the class this function is called from. It may result in unexpected tokenization. \n",
      "The tokenizer class you load from this checkpoint is 'BertJapaneseTokenizer'. \n",
      "The class this function is called from is 'BertTokenizer'.\n"
     ]
    }
   ],
   "source": [
    "from transformers import BertTokenizer\n",
    "tokenizer = BertTokenizer.from_pretrained('cl-tohoku/bert-base-japanese-v2')"
   ]
  },
  {
   "cell_type": "code",
   "execution_count": 11,
   "id": "fc5e300f",
   "metadata": {},
   "outputs": [
    {
     "name": "stdout",
     "output_type": "stream",
     "text": [
      "['Hell', '##o', ',', 'h', '##ow', 'ar', '##e', 'you', '?']\n"
     ]
    }
   ],
   "source": [
    "# テキストをトークナイズ\n",
    "for d in data:\n",
    "    d[\"tokens\"] = tokenizer.tokenize(d[\"text\"])"
   ]
  },
  {
   "cell_type": "code",
   "execution_count": 41,
   "id": "7ede4ca0",
   "metadata": {},
   "outputs": [],
   "source": [
    "for d in data:\n",
    "    tag_memo = [0]*len(text)\n",
    "    \n",
    "    for e in d[\"entities\"]:\n",
    "        start,end = e[\"span\"]\n",
    "        tid = tag2id[e[\"type\"]]\n",
    "        tag_memo[start:end] = [tid]*(end-start)\n",
    "        \n",
    "    i = 0\n",
    "    pre_tags = []\n",
    "    for token in d[\"tokens\"]:\n",
    "        token_clean = token.replace(\"#\",\"\")\n",
    "        pre_tags.append(set(tag_memo[i:i+len(token_clean)]))\n",
    "        i = i + len(token_clean)\n",
    "        \n",
    "    d[\"pre_tags\"] = pre_tags"
   ]
  },
  {
   "cell_type": "code",
   "execution_count": 42,
   "id": "9e7c33f8",
   "metadata": {},
   "outputs": [
    {
     "data": {
      "text/plain": [
       "{'curid': '2470626',\n",
       " 'text': '松友美佐紀は、日本のバドミントン選手。',\n",
       " 'entities': [{'name': '松友美佐紀', 'span': [0, 5], 'type': '人名'},\n",
       "  {'name': '日本', 'span': [7, 9], 'type': '地名'}],\n",
       " 'tokens': ['松',\n",
       "  '友',\n",
       "  '美',\n",
       "  '佐',\n",
       "  '紀',\n",
       "  'は',\n",
       "  '、',\n",
       "  '日',\n",
       "  '本',\n",
       "  'の',\n",
       "  '##バ',\n",
       "  '##ド',\n",
       "  '##ミントン',\n",
       "  '選',\n",
       "  '手',\n",
       "  '。'],\n",
       " 'pre_tags': [{3},\n",
       "  {3},\n",
       "  {3},\n",
       "  {3},\n",
       "  {3},\n",
       "  {0},\n",
       "  {0},\n",
       "  {4},\n",
       "  {4},\n",
       "  {0},\n",
       "  {0},\n",
       "  {0},\n",
       "  {0},\n",
       "  {0},\n",
       "  {0},\n",
       "  {0}]}"
      ]
     },
     "execution_count": 42,
     "metadata": {},
     "output_type": "execute_result"
    }
   ],
   "source": [
    "error_d = []\n",
    "ok_d = []\n",
    "for d in data:\n",
    "    tags = []\n",
    "    for pre_tag in d[\"pre_tags\"]:\n",
    "        if len(pre_tag) == 1:\n",
    "            tags.append()"
   ]
  },
  {
   "cell_type": "code",
   "execution_count": 25,
   "id": "f2e61882",
   "metadata": {},
   "outputs": [
    {
     "ename": "TypeError",
     "evalue": "'str' object does not support item assignment",
     "output_type": "error",
     "traceback": [
      "\u001b[1;31m---------------------------------------------------------------------------\u001b[0m",
      "\u001b[1;31mTypeError\u001b[0m                                 Traceback (most recent call last)",
      "\u001b[1;32m<ipython-input-25-a140a09ed4f7>\u001b[0m in \u001b[0;36m<module>\u001b[1;34m\u001b[0m\n\u001b[1;32m----> 1\u001b[1;33m \u001b[0mtag_memo\u001b[0m\u001b[1;33m[\u001b[0m\u001b[1;36m0\u001b[0m\u001b[1;33m,\u001b[0m\u001b[1;36m5\u001b[0m\u001b[1;33m]\u001b[0m \u001b[1;33m=\u001b[0m \u001b[1;36m11111\u001b[0m\u001b[1;33m\u001b[0m\u001b[1;33m\u001b[0m\u001b[0m\n\u001b[0m",
      "\u001b[1;31mTypeError\u001b[0m: 'str' object does not support item assignment"
     ]
    }
   ],
   "source": [
    "tag_memo[0,5] = 11111"
   ]
  },
  {
   "cell_type": "code",
   "execution_count": null,
   "id": "cc8aa73b",
   "metadata": {},
   "outputs": [],
   "source": [
    "for d in data:\n",
    "    \n",
    "    for e in d[\"entities\"]:\n",
    "        \n",
    "    for token in d[\"tokens\"]:\n",
    "        "
   ]
  },
  {
   "cell_type": "code",
   "execution_count": null,
   "id": "770f39f2",
   "metadata": {},
   "outputs": [],
   "source": [
    "#https://github.com/yahoojapan/JGLUE"
   ]
  },
  {
   "cell_type": "code",
   "execution_count": null,
   "id": "47a57685",
   "metadata": {},
   "outputs": [],
   "source": []
  }
 ],
 "metadata": {
  "kernelspec": {
   "display_name": "Python 3",
   "language": "python",
   "name": "python3"
  },
  "language_info": {
   "codemirror_mode": {
    "name": "ipython",
    "version": 3
   },
   "file_extension": ".py",
   "mimetype": "text/x-python",
   "name": "python",
   "nbconvert_exporter": "python",
   "pygments_lexer": "ipython3",
   "version": "3.9.0"
  }
 },
 "nbformat": 4,
 "nbformat_minor": 5
}
